{
 "cells": [
  {
   "cell_type": "markdown",
   "metadata": {},
   "source": [
    "# Napari\n",
    "\n",
    "\n",
    "## Setup: start the [desktop](../desktop)\n",
    "The link should open in a different window. If you see an error message try refreshing the window.\n",
    "\n",
    "Then run the first cell and wait until the execution is finished (wait for the start on the left-hand side to turn into a number) before running the following cells. `Run all cells` will not work.\n",
    "\n",
    "If you are running this locally you should see some log messages. If you are running this on mybinder wait a few seconds before running the Napari cell. Note adding `time.sleep(5)` to the cell does not work!"
   ]
  },
  {
   "cell_type": "code",
   "execution_count": null,
   "metadata": {},
   "outputs": [],
   "source": [
    "# Use the novnc Desktop in the other window\n",
    "import os\n",
    "os.environ['DISPLAY'] = ':1.0'\n",
    "# instantiate Qt GUI\n",
    "%gui qt5"
   ]
  },
  {
   "cell_type": "code",
   "execution_count": null,
   "metadata": {},
   "outputs": [],
   "source": [
    "import napari\n",
    "# create the viewer on the Desktop and display the image\n",
    "with napari.gui_qt():\n",
    "    viewer = napari.Viewer()\n",
    "    viewer.open('https://uk1s3.embassy.ebi.ac.uk/idr/zarr/v0.1/6001247.zarr/')"
   ]
  }
 ],
 "metadata": {
  "kernelspec": {
   "display_name": "Python 3",
   "language": "python",
   "name": "python3"
  },
  "language_info": {
   "codemirror_mode": {
    "name": "ipython",
    "version": 3
   },
   "file_extension": ".py",
   "mimetype": "text/x-python",
   "name": "python",
   "nbconvert_exporter": "python",
   "pygments_lexer": "ipython3",
   "version": "3.7.3"
  }
 },
 "nbformat": 4,
 "nbformat_minor": 2
}
